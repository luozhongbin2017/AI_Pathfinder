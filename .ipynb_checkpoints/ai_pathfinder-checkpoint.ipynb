{
 "cells": [
  {
   "cell_type": "markdown",
   "metadata": {},
   "source": [
    "# Goal: \n",
    "### Develop a Q-Learning AI algorithm that can find the shortest distance between any two areas in this environment:\n",
    "![title](./ai_maze.png)"
   ]
  },
  {
   "cell_type": "code",
   "execution_count": 1,
   "metadata": {},
   "outputs": [],
   "source": [
    "import numpy as np\n",
    "\n",
    "import matplotlib.pyplot as plt\n",
    "\n",
    "from skimage import io\n",
    "from skimage import color"
   ]
  },
  {
   "cell_type": "markdown",
   "metadata": {},
   "source": [
    "### Define the Environment:"
   ]
  },
  {
   "cell_type": "markdown",
   "metadata": {},
   "source": [
    "#### Define States:"
   ]
  },
  {
   "cell_type": "code",
   "execution_count": 2,
   "metadata": {},
   "outputs": [],
   "source": [
    "# Map locations labels to possible states\n",
    "location_states = {\n",
    "    'A' : 0,\n",
    "    'B' : 1,\n",
    "    'C' : 2,\n",
    "    'D' : 3,\n",
    "    'E' : 4,\n",
    "    'F' : 5,\n",
    "    'G' : 6,\n",
    "    'H' : 7,\n",
    "    'I' : 8,\n",
    "    'J' : 9,\n",
    "    'K' : 10,\n",
    "    'L' : 11\n",
    "}"
   ]
  },
  {
   "cell_type": "markdown",
   "metadata": {},
   "source": [
    "#### Define Possible Actions:"
   ]
  },
  {
   "cell_type": "code",
   "execution_count": 3,
   "metadata": {},
   "outputs": [],
   "source": [
    "actions = [0, 1, 2, 3, 4, 5, 6, 7, 8, 9, 10, 11]"
   ]
  },
  {
   "cell_type": "markdown",
   "metadata": {},
   "source": [
    "#### Define Reward Matrix:\n",
    "Each value in this matrix corresponds to an action available at a given location. <br>\n",
    "Assign 1 if action is playable, 0 if not."
   ]
  },
  {
   "cell_type": "code",
   "execution_count": 4,
   "metadata": {},
   "outputs": [],
   "source": [
    "R = np.array([[0, 1, 0, 0, 0, 0, 0, 0, 0, 0, 0, 0], # A\n",
    "             [1, 0, 1, 0, 0, 1, 0, 0, 0, 0, 0, 0], # B\n",
    "             [0, 1, 0, 0, 0, 0, 1, 0, 0, 0, 0, 0], # C\n",
    "             [0, 0, 0, 0, 0, 0, 0, 1, 0, 0, 0, 0], # D\n",
    "             [0, 0, 0, 0, 0, 0, 0, 0, 1, 0, 0, 0], # E\n",
    "             [0, 1, 0, 0, 0, 0, 0, 0, 0, 1, 0, 0], # F\n",
    "             [0, 0, 1, 0, 0, 0, 0, 1, 0, 0, 0, 0], # G\n",
    "             [0, 0, 0, 1, 0, 0, 1, 0, 0, 0, 0, 1], # H\n",
    "             [0, 0, 0, 0, 1, 0, 0, 0, 0, 1, 0, 0], # I\n",
    "             [0, 0, 0, 0, 0, 1, 0, 0, 1, 0, 1, 0], # J\n",
    "             [0, 0, 0, 0, 0, 0, 0, 0, 0, 1, 0, 1], # K\n",
    "             [0, 0, 0, 0, 0, 0, 0, 1, 0, 0, 1, 0]]) # L"
   ]
  },
  {
   "cell_type": "markdown",
   "metadata": {},
   "source": [
    "### Q-Learning AI Algorithm:"
   ]
  },
  {
   "cell_type": "code",
   "execution_count": 5,
   "metadata": {},
   "outputs": [],
   "source": [
    "# Make a dictionary mapping states to locations\n",
    "state_to_location = {state: location for location, state in location_states.items()}"
   ]
  },
  {
   "cell_type": "code",
   "execution_count": 6,
   "metadata": {},
   "outputs": [],
   "source": [
    "def find_path(start_location, end_location):\n",
    "    # Take start location and end location as input\n",
    "    # Return a list of the shortest path to take\n",
    "    \n",
    "    R_new = np.copy(R)\n",
    "    end_state = location_states[end_location]\n",
    "    \n",
    "    # Assign a high reward value to end state\n",
    "    R_new[end_state, end_state] = 1000\n",
    "\n",
    "    # Initialize Q-value matrix\n",
    "    Q = np.array(np.zeros([12, 12]))\n",
    "    \n",
    "    # Q-Learning Algorithm variables\n",
    "    trials = 5000\n",
    "    alpha = 0.9 # Learning rate\n",
    "    gamma = .75 # Discount factor\n",
    "\n",
    "    for i in range(trials):\n",
    "\n",
    "        # Randomly choose a state\n",
    "        current_state = np.random.randint(0,len(location_states))\n",
    "\n",
    "        # Make a list of playable actions from the chosen state\n",
    "        playable_actions = []\n",
    "        for j in range(len(actions)):\n",
    "            if R_new[current_state, j] > 0:\n",
    "                playable_actions.append(j)\n",
    "\n",
    "        # Randomly choose a playable action\n",
    "        next_state = np.random.choice(playable_actions)\n",
    "\n",
    "        # Calculate temporal difference between chosen states using the Bellman equation\n",
    "        temporal_diff = R_new[current_state, next_state] + gamma * Q[next_state, np.argmax(Q[next_state,:])] - Q[current_state, next_state]\n",
    "\n",
    "        # Update Q-value matrix\n",
    "        Q[current_state, next_state] = Q[current_state, next_state] + alpha * temporal_diff\n",
    "     \n",
    "    path = [start_location]\n",
    "    next_location = start_location\n",
    "    \n",
    "    while next_location != end_location: # Repeat loop until final location is reached       \n",
    "        \n",
    "        start_state = location_states[start_location]\n",
    "        \n",
    "        # Choose next location based on highest Q-value\n",
    "        next_state = np.argmax(Q[start_state,:])\n",
    "        next_location = state_to_location[next_state]\n",
    "        \n",
    "        # Add location to path\n",
    "        path.append(next_location)\n",
    "        start_location = next_location\n",
    "        \n",
    "    return path"
   ]
  },
  {
   "cell_type": "markdown",
   "metadata": {},
   "source": [
    "### Path Plotting Function:"
   ]
  },
  {
   "cell_type": "code",
   "execution_count": 62,
   "metadata": {},
   "outputs": [],
   "source": [
    "def plot_path(path):\n",
    "    \n",
    "    # Load image and convert to grayscale\n",
    "    og_image = color.rgb2gray(io.imread('./ai_maze.png'))\n",
    "    image = color.gray2rgb(og_image)\n",
    "\n",
    "    def colorize(image, hue, saturation=1):\n",
    "        # Colorize location in environment\n",
    "\n",
    "        hsv = color.rgb2hsv(image)\n",
    "        hsv[:, :, 1] = saturation\n",
    "        hsv[:, :, 0] = hue\n",
    "\n",
    "        # Return colorized image\n",
    "        return color.hsv2rgb(hsv)\n",
    "\n",
    "    # Map images slice coefficients for each location\n",
    "    area_coef = {\n",
    "        'A' : ((0,1), (0,1)),\n",
    "        'B' : ((0,1), (1,2)),\n",
    "        'C' : ((0,1), (2,3)),\n",
    "        'D' : ((0,1), (3,4)),\n",
    "        'E' : ((1,2), (0,1)),\n",
    "        'F' : ((1,2), (1,2)),\n",
    "        'G' : ((1,2), (2,3)),\n",
    "        'H' : ((1,2), (3,4)),\n",
    "        'I' : ((2,3), (0,1)),\n",
    "        'J' : ((2,3), (1,2)),\n",
    "        'K' : ((2,3), (2,3)),\n",
    "        'L' : ((2,3), (3,4)),\n",
    "        }\n",
    "\n",
    "    # Calculate slices of image locations along the path to highlight\n",
    "    path_slices = []\n",
    "\n",
    "    for loc in path:\n",
    "        path_slices.append((slice(int(image.shape[0]/3 * area_coef[loc][0][0]), int(image.shape[0]/3 * area_coef[loc][0][1])),\n",
    "                     slice(int(image.shape[1]/4 * area_coef[loc][1][0]), int(image.shape[1]/4 * area_coef[loc][1][1]))))\n",
    "\n",
    "    # Duplicate image\n",
    "    sliced_image = image.copy()\n",
    "    \n",
    "    # These will be used to visually show progression along the path\n",
    "    saturation_scale = np.linspace(.2, 1, num=len(path))\n",
    "    k = 0\n",
    "    # color value\n",
    "    green = np.linspace(.2, .3, num=len(path))\n",
    "\n",
    "    # Apply color to each area in path\n",
    "    for area in path_slices: #top_left, bottom_right, \n",
    "        sliced_image[area] = colorize(image[area], green[k], saturation=saturation_scale[k])\n",
    "        k += 1\n",
    "\n",
    "    # Create and show figure\n",
    "    fig, (ax1) = plt.subplots(ncols=1, nrows=1, figsize=(10, 5),\n",
    "                                   sharex=True, sharey=True)\n",
    "    plt.axis('off')\n",
    "    ax1.imshow(sliced_image)\n",
    "    plt.show()"
   ]
  },
  {
   "cell_type": "markdown",
   "metadata": {},
   "source": [
    "### Find the Best Path!"
   ]
  },
  {
   "cell_type": "code",
   "execution_count": 67,
   "metadata": {
    "scrolled": false
   },
   "outputs": [
    {
     "name": "stdout",
     "output_type": "stream",
     "text": [
      "Ideal Path:  ['E', 'I', 'J', 'F', 'B', 'C', 'G']\n"
     ]
    },
    {
     "data": {
      "image/png": "[encoded data removed]",
      "text/plain": [
       "<Figure size 720x360 with 1 Axes>"
      ]
     },
     "metadata": {
      "needs_background": "light"
     },
     "output_type": "display_data"
    }
   ],
   "source": [
    "# Calculate best path\n",
    "path = find_path('E', 'G')\n",
    "\n",
    "# Display results\n",
    "print('Ideal Path: ', path)\n",
    "plot_path(path)"
   ]
  },
  {
   "cell_type": "markdown",
   "metadata": {},
   "source": [
    "### Done!"
   ]
  },
  {
   "cell_type": "markdown",
   "metadata": {},
   "source": [
    "<hr>"
   ]
  }
 ],
 "metadata": {
  "kernelspec": {
   "display_name": "Python 3",
   "language": "python",
   "name": "python3"
  },
  "language_info": {
   "codemirror_mode": {
    "name": "ipython",
    "version": 3
   },
   "file_extension": ".py",
   "mimetype": "text/x-python",
   "name": "python",
   "nbconvert_exporter": "python",
   "pygments_lexer": "ipython3",
   "version": "3.6.8"
  }
 },
 "nbformat": 4,
 "nbformat_minor": 2
}
